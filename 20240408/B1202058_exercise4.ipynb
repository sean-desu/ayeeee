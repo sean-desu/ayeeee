{
  "nbformat": 4,
  "nbformat_minor": 0,
  "metadata": {
    "colab": {
      "provenance": []
    },
    "kernelspec": {
      "name": "python3",
      "display_name": "Python 3"
    },
    "language_info": {
      "name": "python"
    }
  },
  "cells": [
    {
      "cell_type": "code",
      "execution_count": 9,
      "metadata": {
        "colab": {
          "base_uri": "https://localhost:8080/"
        },
        "id": "04CKKuNDjm6W",
        "outputId": "5fd2f6a1-04df-4bb6-fcb7-2b2c34108cf3"
      },
      "outputs": [
        {
          "output_type": "stream",
          "name": "stdout",
          "text": [
            "輸入身高(公分)180\n",
            "輸入體重(公斤))61\n",
            "BMI: 18.827160493827158\n",
            "體位:適中\n"
          ]
        }
      ],
      "source": [
        "a=float(input(\"輸入身高(公分)\"))\n",
        "b=float(input(\"輸入體重(公斤))\"))\n",
        "a/=100\n",
        "b/=a\n",
        "b/=a\n",
        "print(\"BMI:\",b)\n",
        "if b>27 or b==27:\n",
        "  print('體位:肥胖')\n",
        "elif b<27 and b>24:\n",
        "  print('體位:過重')\n",
        "elif b==24:\n",
        "  print('體位:過重')\n",
        "elif b<24 and b>18.5:\n",
        "  print('體位:適中')\n",
        "elif b==18.5:\n",
        "  print('體位:適中')\n",
        "else:\n",
        "  print('體位:過輕')"
      ]
    },
    {
      "cell_type": "code",
      "source": [
        "a=float(input('請輸入第一個數字'))\n",
        "b=input('請輸入運算符號')\n",
        "c=float(input('請輸入第二個數字'))\n",
        "if b=='+':\n",
        "  print(a+c)\n",
        "elif b=='-':\n",
        "  print(a-c)\n",
        "elif b=='*':\n",
        "  print(a*c)\n",
        "else:\n",
        "  print(a/c)"
      ],
      "metadata": {
        "colab": {
          "base_uri": "https://localhost:8080/"
        },
        "id": "XYRZsXednK-_",
        "outputId": "c227e219-7c79-412a-8c3b-d1bd4883ddba"
      },
      "execution_count": 14,
      "outputs": [
        {
          "output_type": "stream",
          "name": "stdout",
          "text": [
            "請輸入第一個數字8\n",
            "請輸入運算符號/\n",
            "請輸入第二個數字2\n",
            "4.0\n"
          ]
        }
      ]
    }
  ]
}