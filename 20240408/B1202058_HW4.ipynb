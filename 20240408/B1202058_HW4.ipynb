{
  "nbformat": 4,
  "nbformat_minor": 0,
  "metadata": {
    "colab": {
      "provenance": []
    },
    "kernelspec": {
      "name": "python3",
      "display_name": "Python 3"
    },
    "language_info": {
      "name": "python"
    }
  },
  "cells": [
    {
      "cell_type": "code",
      "source": [
        "a=int(input('請輸入年份'))\n",
        "if a>1582:\n",
        "  if a%400==0:\n",
        "   print('是閏年')\n",
        "  elif a%4==0 and a%100!=0:\n",
        "   print('是閏年')\n",
        "  else:\n",
        "   print('是平年')\n",
        "elif a%4==0:\n",
        "  print('是閏年')\n",
        "else:\n",
        "  print('是平年')"
      ],
      "metadata": {
        "colab": {
          "base_uri": "https://localhost:8080/"
        },
        "id": "x_kwQYBMW0vn",
        "outputId": "fdd7862d-99a4-4b08-8699-a581a8478268"
      },
      "execution_count": 4,
      "outputs": [
        {
          "output_type": "stream",
          "name": "stdout",
          "text": [
            "請輸入年份1000\n",
            "是閏年\n"
          ]
        }
      ]
    }
  ]
}