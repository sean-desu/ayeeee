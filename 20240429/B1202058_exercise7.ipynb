{
  "nbformat": 4,
  "nbformat_minor": 0,
  "metadata": {
    "colab": {
      "provenance": []
    },
    "kernelspec": {
      "name": "python3",
      "display_name": "Python 3"
    },
    "language_info": {
      "name": "python"
    }
  },
  "cells": [
    {
      "cell_type": "code",
      "execution_count": 6,
      "metadata": {
        "colab": {
          "base_uri": "https://localhost:8080/"
        },
        "id": "kvUmiIKrsHmT",
        "outputId": "19b80571-1771-46d5-95c2-6dab9eeaaaac"
      },
      "outputs": [
        {
          "output_type": "stream",
          "name": "stdout",
          "text": [
            "請輸入聖誕樹高度11\n",
            "            *            \n",
            "           ***           \n",
            "          *****          \n",
            "         *******         \n",
            "        *********        \n",
            "       ***********       \n",
            "      *************      \n",
            "     ***************     \n",
            "    *****************    \n",
            "   *******************   \n",
            "  *********************  \n",
            "           ***\n",
            "           ***\n",
            "           ***\n",
            "           ***\n",
            "           ***\n"
          ]
        }
      ],
      "source": [
        "def tree(x):\n",
        " a='*'\n",
        " b=' '\n",
        " y=x+1\n",
        " for i in range(1,y):\n",
        "   d=2*i-1\n",
        "   c=(2*y-1-d)/2\n",
        "   k=int(c)\n",
        "   print(k*b,d*a,k*b)\n",
        " for i in range(1,6):\n",
        "   e=3*a\n",
        "   f=(2*y-3)/2\n",
        "   print(int(f)*b,e)\n",
        "x=input('請輸入聖誕樹高度')\n",
        "x=int(x)\n",
        "tree(x)"
      ]
    },
    {
      "cell_type": "code",
      "source": [
        "def BMI(a,b):\n",
        "  a/=100\n",
        "  a*=a\n",
        "  return b/a\n",
        "try:\n",
        " a=float(input(\"輸入身高(公分)\"))\n",
        " b=float(input(\"輸入體重(公斤))\"))\n",
        " c=BMI(a,b)\n",
        " print(\"BMI:\",c)\n",
        " if c>27 or c==27:\n",
        "   print('體位:肥胖')\n",
        " elif c<27 and c>24:\n",
        "   print('體位:過重')\n",
        " elif c==24:\n",
        "   print('體位:過重')\n",
        " elif c<24 and c>18.5:\n",
        "   print('體位:適中')\n",
        " elif c==18.5:\n",
        "   print('體位:適中')\n",
        " else:\n",
        "   print('體位:過輕')\n",
        "except:\n",
        "  print('內容輸入錯誤')"
      ],
      "metadata": {
        "colab": {
          "base_uri": "https://localhost:8080/"
        },
        "id": "hNOBq7Gq2F_M",
        "outputId": "44b39d81-6d92-462d-da0c-0b8ebffbb66d"
      },
      "execution_count": 16,
      "outputs": [
        {
          "output_type": "stream",
          "name": "stdout",
          "text": [
            "輸入身高(公分)180\n",
            "輸入體重(公斤))62\n",
            "BMI: 19.1358024691358\n",
            "體位:適中\n"
          ]
        }
      ]
    }
  ]
}