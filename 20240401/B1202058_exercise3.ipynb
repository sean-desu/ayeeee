{
  "nbformat": 4,
  "nbformat_minor": 0,
  "metadata": {
    "colab": {
      "provenance": []
    },
    "kernelspec": {
      "name": "python3",
      "display_name": "Python 3"
    },
    "language_info": {
      "name": "python"
    }
  },
  "cells": [
    {
      "cell_type": "code",
      "execution_count": 13,
      "metadata": {
        "colab": {
          "base_uri": "https://localhost:8080/"
        },
        "id": "NOs994vcdpuC",
        "outputId": "d3843e34-e172-46c4-bd6f-631559e4e289"
      },
      "outputs": [
        {
          "output_type": "stream",
          "name": "stdout",
          "text": [
            "{'姓名': '賴宏瑋', '性別': '男', '學號': 'M1129020'}\n",
            "88.33333333333333\n",
            "{'姓名': '許珈綺', '性別': '女', '學號': 'M1229001'}\n",
            "95.0\n"
          ]
        }
      ],
      "source": [
        "a={'姓名':'賴宏瑋','性別':'男','作業分數':[95,100,90]}\n",
        "b={'學號':'M1129020'}\n",
        "c={**a,**b}\n",
        "import copy\n",
        "d=copy.deepcopy(c)\n",
        "c['作業分數'][1]=80\n",
        "d['姓名']='許珈綺'\n",
        "d['性別']='女'\n",
        "d['學號']='M1229001'\n",
        "e=c.pop('作業分數')\n",
        "f=list(e)\n",
        "g=(f[0]+f[1]+f[2])/3\n",
        "print(c)\n",
        "print(g)\n",
        "h=d.pop('作業分數')\n",
        "i=list(h)\n",
        "j=(i[0]+i[1]+i[2])/3\n",
        "print(d)\n",
        "print(j)"
      ]
    },
    {
      "cell_type": "code",
      "source": [
        "a=[100,50,45,60,90,95,80,50]\n",
        "a.insert(0,88)\n",
        "a[2:5]=[70,50]\n",
        "a.remove(50)\n",
        "b=a.pop(0)\n",
        "c=a.pop(5)\n",
        "d=b+c\n",
        "print(d)"
      ],
      "metadata": {
        "colab": {
          "base_uri": "https://localhost:8080/"
        },
        "id": "MkXrfup5iPQO",
        "outputId": "1c898078-bff2-4b7f-c8b9-86de61479e5e"
      },
      "execution_count": 24,
      "outputs": [
        {
          "output_type": "stream",
          "name": "stdout",
          "text": [
            "138\n"
          ]
        }
      ]
    },
    {
      "cell_type": "code",
      "source": [
        "a=347//3\n",
        "b=347%3\n",
        "print(a**b)"
      ],
      "metadata": {
        "colab": {
          "base_uri": "https://localhost:8080/"
        },
        "id": "Guuwk7Cpj8N2",
        "outputId": "3f9db146-a8b4-47e2-eb5a-fdb228c5b2e5"
      },
      "execution_count": 25,
      "outputs": [
        {
          "output_type": "stream",
          "name": "stdout",
          "text": [
            "13225\n"
          ]
        }
      ]
    }
  ]
}