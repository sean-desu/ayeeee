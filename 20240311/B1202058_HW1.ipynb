{
  "nbformat": 4,
  "nbformat_minor": 0,
  "metadata": {
    "colab": {
      "provenance": []
    },
    "kernelspec": {
      "name": "python3",
      "display_name": "Python 3"
    },
    "language_info": {
      "name": "python"
    }
  },
  "cells": [
    {
      "cell_type": "code",
      "source": [
        "print(\"I'm a student\")"
      ],
      "metadata": {
        "colab": {
          "base_uri": "https://localhost:8080/"
        },
        "id": "6Zl1v7mmtEYh",
        "outputId": "3f433f2e-4323-4d7c-b7a6-e7812585d5bb"
      },
      "execution_count": 3,
      "outputs": [
        {
          "output_type": "stream",
          "name": "stdout",
          "text": [
            "I'm a student\n"
          ]
        }
      ]
    },
    {
      "cell_type": "code",
      "source": [],
      "metadata": {
        "id": "mbsVsUlgtxOz"
      },
      "execution_count": null,
      "outputs": []
    },
    {
      "cell_type": "code",
      "source": [
        "a=float(input(\"x1=\"))\n",
        "b=float(input(\"y1=\"))\n",
        "c=float(input(\"x1=\"))\n",
        "d=float(input(\"y2=\"))\n",
        "print(\"兩點距離是\",(((a-c)**2+(b-d)**2)**0.5))"
      ],
      "metadata": {
        "colab": {
          "base_uri": "https://localhost:8080/"
        },
        "id": "xwjZo7BJtxXS",
        "outputId": "915bae7c-e14c-45b4-83c2-33f8f1a30e06"
      },
      "execution_count": 28,
      "outputs": [
        {
          "output_type": "stream",
          "name": "stdout",
          "text": [
            "x1=0\n",
            "y1=0\n",
            "x1=5\n",
            "y2=12\n",
            "兩點距離是 13.0\n"
          ]
        }
      ]
    },
    {
      "cell_type": "code",
      "source": [
        "a=float(input(\"輸入身高(公分)\"))\n",
        "b=float(input(\"輸入體重(公斤))\"))\n",
        "a/=100\n",
        "b/=a\n",
        "b/=a\n",
        "print(\"BMI=\",b)"
      ],
      "metadata": {
        "colab": {
          "base_uri": "https://localhost:8080/"
        },
        "id": "tx9XGu7zyr6I",
        "outputId": "7a1026e3-80c1-4e70-aa3b-973dc38c1af2"
      },
      "execution_count": 29,
      "outputs": [
        {
          "output_type": "stream",
          "name": "stdout",
          "text": [
            "輸入身高(公分)180\n",
            "輸入體重(公斤))62\n",
            "BMI= 19.1358024691358\n"
          ]
        }
      ]
    }
  ]
}