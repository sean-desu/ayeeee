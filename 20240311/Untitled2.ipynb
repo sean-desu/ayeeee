{
  "nbformat": 4,
  "nbformat_minor": 0,
  "metadata": {
    "colab": {
      "provenance": []
    },
    "kernelspec": {
      "name": "python3",
      "display_name": "Python 3"
    },
    "language_info": {
      "name": "python"
    }
  },
  "cells": [
    {
      "cell_type": "code",
      "execution_count": 1,
      "metadata": {
        "colab": {
          "base_uri": "https://localhost:8080/"
        },
        "id": "ad6F7ytxrCuO",
        "outputId": "306e0821-bcbc-4581-d3b9-3b70ffb25979"
      },
      "outputs": [
        {
          "output_type": "stream",
          "name": "stdout",
          "text": [
            "answer is 495\n"
          ]
        }
      ],
      "source": [
        "x=2\n",
        "y=1\n",
        "a=2*x+y\n",
        "b=100-y\n",
        "z=a*b\n",
        "print(\"answer is\",z)"
      ]
    },
    {
      "cell_type": "code",
      "source": [
        "y=4\n",
        "a=2*y+1\n",
        "z=100/a\n",
        "print(\"answer is\",z)"
      ],
      "metadata": {
        "colab": {
          "base_uri": "https://localhost:8080/"
        },
        "id": "AKd_T7Hpri5M",
        "outputId": "7e8a6058-0929-4593-dbec-9140b942e813"
      },
      "execution_count": 2,
      "outputs": [
        {
          "output_type": "stream",
          "name": "stdout",
          "text": [
            "answer is 11.11111111111111\n"
          ]
        }
      ]
    }
  ]
}